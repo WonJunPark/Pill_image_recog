{
 "cells": [
  {
   "cell_type": "code",
   "execution_count": 1,
   "metadata": {
    "scrolled": true
   },
   "outputs": [
    {
     "name": "stderr",
     "output_type": "stream",
     "text": [
      "Using TensorFlow backend.\n"
     ]
    }
   ],
   "source": [
    "from PIL import Image\n",
    "import os, glob, numpy as np\n",
    "from sklearn.model_selection import train_test_split\n",
    "import os, glob, numpy as np\n",
    "from keras.models import Sequential\n",
    "from keras.layers import Conv2D, MaxPooling2D, Dense, Flatten, Dropout\n",
    "from keras.callbacks import EarlyStopping, ModelCheckpoint\n",
    "import matplotlib.pyplot as plt\n",
    "import keras.backend.tensorflow_backend as K\n",
    "import tensorflow as tf"
   ]
  },
  {
   "cell_type": "code",
   "execution_count": 2,
   "metadata": {},
   "outputs": [],
   "source": [
    "caltech_dir = \"C:/Users/GC/Desktop/pill_recog/image\"\n",
    "categories = [\"acertil\", \"actos\", \"amaryl\", \"amarylm\", \"amodipin\", \n",
    "              \"capril\", \"diabex\", \"diamicron\", \"dilatrend\", \"duvie\", \n",
    "              \"glupa\", \"januvia\", \"nimodipine\", \"norvasc\", \"olmetec\", \n",
    "              \"sevikar\", \"telmisartan\", \"trajenta\", \"valsaone\", \"zemiglo\"]\n",
    "nb_classes = len(categories)"
   ]
  },
  {
   "cell_type": "code",
   "execution_count": 3,
   "metadata": {},
   "outputs": [],
   "source": [
    "image_w = 240\n",
    "image_h = 320\n",
    "\n",
    "pixels = image_h * image_w * 3\n",
    "\n",
    "X = []\n",
    "y = []"
   ]
  },
  {
   "cell_type": "code",
   "execution_count": 4,
   "metadata": {
    "scrolled": true
   },
   "outputs": [
    {
     "name": "stdout",
     "output_type": "stream",
     "text": [
      "acertil  :  C:/Users/GC/Desktop/pill_recog/image/acertil\\acertil.jpg\n",
      "acertil  :  C:/Users/GC/Desktop/pill_recog/image/acertil\\acertil_0_7279.jpg\n",
      "actos  :  C:/Users/GC/Desktop/pill_recog/image/actos\\actos.jpg\n",
      "actos  :  C:/Users/GC/Desktop/pill_recog/image/actos\\actos_0_7332.jpg\n",
      "amaryl  :  C:/Users/GC/Desktop/pill_recog/image/amaryl\\amaryl.jpg\n",
      "amaryl  :  C:/Users/GC/Desktop/pill_recog/image/amaryl\\amaryl_0_7310.jpg\n",
      "amarylm  :  C:/Users/GC/Desktop/pill_recog/image/amarylm\\amarylm.jpg\n",
      "amarylm  :  C:/Users/GC/Desktop/pill_recog/image/amarylm\\amarylm_0_732.jpg\n",
      "amodipin  :  C:/Users/GC/Desktop/pill_recog/image/amodipin\\amodipin.jpg\n",
      "amodipin  :  C:/Users/GC/Desktop/pill_recog/image/amodipin\\amodipin_0_7307.jpg\n",
      "capril  :  C:/Users/GC/Desktop/pill_recog/image/capril\\capril.jpg\n",
      "capril  :  C:/Users/GC/Desktop/pill_recog/image/capril\\capril_0_7471.jpg\n",
      "diabex  :  C:/Users/GC/Desktop/pill_recog/image/diabex\\diabex.jpg\n",
      "diabex  :  C:/Users/GC/Desktop/pill_recog/image/diabex\\diabex_0_731.jpg\n",
      "diamicron  :  C:/Users/GC/Desktop/pill_recog/image/diamicron\\diamicron.jpg\n",
      "diamicron  :  C:/Users/GC/Desktop/pill_recog/image/diamicron\\diamicron_0_7166.jpg\n",
      "dilatrend  :  C:/Users/GC/Desktop/pill_recog/image/dilatrend\\dilatrend.jpg\n",
      "dilatrend  :  C:/Users/GC/Desktop/pill_recog/image/dilatrend\\dilatrend_0_7450.jpg\n",
      "duvie  :  C:/Users/GC/Desktop/pill_recog/image/duvie\\duvie.jpg\n",
      "duvie  :  C:/Users/GC/Desktop/pill_recog/image/duvie\\duvie_0_7164.jpg\n",
      "glupa  :  C:/Users/GC/Desktop/pill_recog/image/glupa\\glupa.jpg\n",
      "glupa  :  C:/Users/GC/Desktop/pill_recog/image/glupa\\glupa_0_6878.jpg\n",
      "januvia  :  C:/Users/GC/Desktop/pill_recog/image/januvia\\januvia.jpg\n",
      "januvia  :  C:/Users/GC/Desktop/pill_recog/image/januvia\\januvia_0_7160.jpg\n",
      "nimodipine  :  C:/Users/GC/Desktop/pill_recog/image/nimodipine\\nimodipine.jpg\n",
      "nimodipine  :  C:/Users/GC/Desktop/pill_recog/image/nimodipine\\nimodipine_0_7112.jpg\n",
      "norvasc  :  C:/Users/GC/Desktop/pill_recog/image/norvasc\\norvasc.jpg\n",
      "norvasc  :  C:/Users/GC/Desktop/pill_recog/image/norvasc\\norvasc_0_7225.jpg\n",
      "olmetec  :  C:/Users/GC/Desktop/pill_recog/image/olmetec\\olmetec.jpg\n",
      "olmetec  :  C:/Users/GC/Desktop/pill_recog/image/olmetec\\olmetec_0_732.jpg\n",
      "sevikar  :  C:/Users/GC/Desktop/pill_recog/image/sevikar\\sevikar.jpg\n",
      "sevikar  :  C:/Users/GC/Desktop/pill_recog/image/sevikar\\sevikar_0_7335.jpg\n",
      "telmisartan  :  C:/Users/GC/Desktop/pill_recog/image/telmisartan\\telmisartan.jpg\n",
      "telmisartan  :  C:/Users/GC/Desktop/pill_recog/image/telmisartan\\telmisartan_0_7294.jpg\n",
      "trajenta  :  C:/Users/GC/Desktop/pill_recog/image/trajenta\\trajenta.jpg\n",
      "trajenta  :  C:/Users/GC/Desktop/pill_recog/image/trajenta\\trajenta_0_7331.jpg\n",
      "valsaone  :  C:/Users/GC/Desktop/pill_recog/image/valsaone\\valsaone.jpg\n",
      "valsaone  :  C:/Users/GC/Desktop/pill_recog/image/valsaone\\valsaone_0_7330.jpg\n",
      "zemiglo  :  C:/Users/GC/Desktop/pill_recog/image/zemiglo\\zemiglo.jpg\n",
      "zemiglo  :  C:/Users/GC/Desktop/pill_recog/image/zemiglo\\zemiglo_0_7273.jpg\n"
     ]
    }
   ],
   "source": [
    "for idx, cat in enumerate(categories):\n",
    "    \n",
    "    #one-hot encoding\n",
    "    label = [0 for i in range(nb_classes)]\n",
    "    label[idx] = 1\n",
    "\n",
    "    image_dir = caltech_dir + \"/\" + cat\n",
    "    files = glob.glob(image_dir+\"/*.jpg\")\n",
    "    for i, f in enumerate(files):\n",
    "        img = Image.open(f)\n",
    "        img = img.convert(\"RGB\")\n",
    "        img = img.resize((image_w, image_h))\n",
    "        data = np.asarray(img)\n",
    "\n",
    "        X.append(data)\n",
    "        y.append(label)\n",
    "\n",
    "        if i % 700 == 0:\n",
    "            print(cat, \" : \", f)\n",
    "\n",
    "X = np.array(X)\n",
    "y = np.array(y)\n",
    "\n",
    "\n",
    "X_train, X_test, y_train, y_test = train_test_split(X, y)\n",
    "xy = (X_train, X_test, y_train, y_test)"
   ]
  },
  {
   "cell_type": "code",
   "execution_count": 5,
   "metadata": {},
   "outputs": [
    {
     "name": "stdout",
     "output_type": "stream",
     "text": [
      "(15000, 320, 240, 3)\n",
      "15000\n"
     ]
    }
   ],
   "source": [
    "print(X_train.shape)\n",
    "print(X_train.shape[0])"
   ]
  },
  {
   "cell_type": "code",
   "execution_count": 7,
   "metadata": {},
   "outputs": [
    {
     "ename": "MemoryError",
     "evalue": "",
     "output_type": "error",
     "traceback": [
      "\u001b[1;31m---------------------------------------------------------------------------\u001b[0m",
      "\u001b[1;31mMemoryError\u001b[0m                               Traceback (most recent call last)",
      "\u001b[1;32m<ipython-input-7-a1ce568752c8>\u001b[0m in \u001b[0;36m<module>\u001b[1;34m\u001b[0m\n\u001b[0;32m      1\u001b[0m \u001b[1;31m#일반화\u001b[0m\u001b[1;33m\u001b[0m\u001b[1;33m\u001b[0m\u001b[1;33m\u001b[0m\u001b[0m\n\u001b[1;32m----> 2\u001b[1;33m \u001b[0mX_train\u001b[0m \u001b[1;33m=\u001b[0m \u001b[0mX_train\u001b[0m\u001b[1;33m.\u001b[0m\u001b[0mastype\u001b[0m\u001b[1;33m(\u001b[0m\u001b[0mfloat\u001b[0m\u001b[1;33m)\u001b[0m \u001b[1;33m/\u001b[0m \u001b[1;36m255\u001b[0m\u001b[1;33m\u001b[0m\u001b[1;33m\u001b[0m\u001b[0m\n\u001b[0m\u001b[0;32m      3\u001b[0m \u001b[0mX_test\u001b[0m \u001b[1;33m=\u001b[0m \u001b[0mX_test\u001b[0m\u001b[1;33m.\u001b[0m\u001b[0mastype\u001b[0m\u001b[1;33m(\u001b[0m\u001b[0mfloat\u001b[0m\u001b[1;33m)\u001b[0m \u001b[1;33m/\u001b[0m \u001b[1;36m255\u001b[0m\u001b[1;33m\u001b[0m\u001b[1;33m\u001b[0m\u001b[0m\n",
      "\u001b[1;31mMemoryError\u001b[0m: "
     ]
    }
   ],
   "source": [
    "#일반화\n",
    "X_train = X_train.astype(float) / 255\n",
    "X_test = X_test.astype(float) / 255"
   ]
  },
  {
   "cell_type": "code",
   "execution_count": null,
   "metadata": {},
   "outputs": [],
   "source": []
  },
  {
   "cell_type": "code",
   "execution_count": 7,
   "metadata": {},
   "outputs": [],
   "source": [
    "from keras import layers\n",
    "from keras import models\n",
    "\n",
    "model = models.Sequential()\n",
    "model.add(layers.Conv2D(32, (3, 3), activation='relu',\n",
    "                        input_shape=(400, 300, 3)))\n",
    "model.add(layers.MaxPooling2D((2, 2)))\n",
    "model.add(layers.Conv2D(64, (3, 3), activation='relu'))\n",
    "model.add(layers.MaxPooling2D((2, 2)))\n",
    "model.add(layers.Conv2D(128, (3, 3), activation='relu'))\n",
    "model.add(layers.MaxPooling2D((2, 2)))\n",
    "model.add(layers.Conv2D(128, (3, 3), activation='relu'))\n",
    "model.add(layers.MaxPooling2D((2, 2)))\n",
    "model.add(layers.Flatten())\n",
    "model.add(layers.Dense(512, activation='relu'))\n",
    "model.add(layers.Dense(20, activation='sigmoid'))"
   ]
  },
  {
   "cell_type": "code",
   "execution_count": 8,
   "metadata": {},
   "outputs": [],
   "source": [
    "from keras import optimizers\n",
    "\n",
    "model.compile(loss='binary_crossentropy',\n",
    "              optimizer=optimizers.RMSprop(lr=1e-4),\n",
    "              metrics=['acc'])"
   ]
  },
  {
   "cell_type": "code",
   "execution_count": 9,
   "metadata": {},
   "outputs": [
    {
     "name": "stdout",
     "output_type": "stream",
     "text": [
      "Train on 1524 samples, validate on 508 samples\n",
      "Epoch 1/10\n",
      "1524/1524 [==============================] - 117s 77ms/step - loss: 0.2028 - acc: 0.9322 - val_loss: 0.1307 - val_acc: 0.9552\n",
      "Epoch 2/10\n",
      "1524/1524 [==============================] - 115s 75ms/step - loss: 0.1015 - acc: 0.9633 - val_loss: 0.0919 - val_acc: 0.9628\n",
      "Epoch 3/10\n",
      "1524/1524 [==============================] - 112s 74ms/step - loss: 0.0642 - acc: 0.9766 - val_loss: 0.0477 - val_acc: 0.9823\n",
      "Epoch 4/10\n",
      "1524/1524 [==============================] - 115s 75ms/step - loss: 0.0362 - acc: 0.9871 - val_loss: 0.0261 - val_acc: 0.9897\n",
      "Epoch 5/10\n",
      "1524/1524 [==============================] - 114s 75ms/step - loss: 0.0316 - acc: 0.9896 - val_loss: 0.0267 - val_acc: 0.9913\n",
      "Epoch 6/10\n",
      "1524/1524 [==============================] - 115s 75ms/step - loss: 0.0199 - acc: 0.9932 - val_loss: 0.0162 - val_acc: 0.9936\n",
      "Epoch 7/10\n",
      "1524/1524 [==============================] - 117s 77ms/step - loss: 0.0159 - acc: 0.9947 - val_loss: 0.0224 - val_acc: 0.9912\n",
      "Epoch 8/10\n",
      "1524/1524 [==============================] - 119s 78ms/step - loss: 0.0154 - acc: 0.9958 - val_loss: 0.0107 - val_acc: 0.9965\n",
      "Epoch 9/10\n",
      "1524/1524 [==============================] - 114s 75ms/step - loss: 0.0092 - acc: 0.9977 - val_loss: 0.0118 - val_acc: 0.9966\n",
      "Epoch 10/10\n",
      "1524/1524 [==============================] - 114s 75ms/step - loss: 0.0143 - acc: 0.9964 - val_loss: 0.0055 - val_acc: 0.9987\n"
     ]
    }
   ],
   "source": [
    "history = model.fit(X_train, y_train, \n",
    "                    batch_size=50, \n",
    "                    epochs=10, \n",
    "                    validation_data=(X_test, y_test))"
   ]
  },
  {
   "cell_type": "code",
   "execution_count": 10,
   "metadata": {},
   "outputs": [
    {
     "name": "stdout",
     "output_type": "stream",
     "text": [
      "508/508 [==============================] - 10s 19ms/step\n",
      "정확도 : 0.9987\n"
     ]
    }
   ],
   "source": [
    "print(\"정확도 : %.4f\" % (model.evaluate(X_test, y_test)[1]))"
   ]
  },
  {
   "cell_type": "code",
   "execution_count": 11,
   "metadata": {},
   "outputs": [
    {
     "data": {
      "image/png": "[encoded data removed]",
      "text/plain": [
       "<Figure size 432x288 with 1 Axes>"
      ]
     },
     "metadata": {
      "needs_background": "light"
     },
     "output_type": "display_data"
    },
    {
     "data": {
      "image/png": "[encoded data removed]",
      "text/plain": [
       "<Figure size 432x288 with 1 Axes>"
      ]
     },
     "metadata": {
      "needs_background": "light"
     },
     "output_type": "display_data"
    }
   ],
   "source": [
    "acc = history.history['acc']\n",
    "val_acc = history.history['val_acc']\n",
    "loss = history.history['loss']\n",
    "val_loss = history.history['val_loss']\n",
    "\n",
    "epochs = range(len(acc))\n",
    "\n",
    "plt.plot(epochs, acc, 'bo', label='Training acc')\n",
    "plt.plot(epochs, val_acc, 'b', label='Validation acc')\n",
    "plt.title('Training and validation accuracy')\n",
    "plt.legend()\n",
    "\n",
    "plt.figure()\n",
    "\n",
    "plt.plot(epochs, loss, 'bo', label='Training loss')\n",
    "plt.plot(epochs, val_loss, 'b', label='Validation loss')\n",
    "plt.title('Training and validation loss')\n",
    "plt.legend()\n",
    "\n",
    "plt.show()"
   ]
  },
  {
   "cell_type": "code",
   "execution_count": 12,
   "metadata": {},
   "outputs": [],
   "source": [
    "model_json = model.to_json()\n",
    "with open(\"model.json\", \"w\") as json_file : \n",
    "    json_file.write(model_json)"
   ]
  },
  {
   "cell_type": "code",
   "execution_count": 14,
   "metadata": {},
   "outputs": [
    {
     "name": "stdout",
     "output_type": "stream",
     "text": [
      "Saved model to disk\n"
     ]
    }
   ],
   "source": [
    "model.save_weights(\"model_w2.h5\")\n",
    "print(\"Saved model to disk\")"
   ]
  },
  {
   "cell_type": "code",
   "execution_count": 1,
   "metadata": {},
   "outputs": [
    {
     "name": "stdout",
     "output_type": "stream",
     "text": [
      "A\n"
     ]
    }
   ],
   "source": [
    "print(\"A\")"
   ]
  }
 ],
 "metadata": {
  "kernelspec": {
   "display_name": "Python 3",
   "language": "python",
   "name": "python3"
  },
  "language_info": {
   "codemirror_mode": {
    "name": "ipython",
    "version": 3
   },
   "file_extension": ".py",
   "mimetype": "text/x-python",
   "name": "python",
   "nbconvert_exporter": "python",
   "pygments_lexer": "ipython3",
   "version": "3.6.9"
  }
 },
 "nbformat": 4,
 "nbformat_minor": 2
}
